{
 "cells": [
  {
   "cell_type": "code",
   "execution_count": 5,
   "metadata": {},
   "outputs": [],
   "source": [
    "import re \n",
    "import urllib\n",
    "from time import sleep"
   ]
  },
  {
   "cell_type": "code",
   "execution_count": 6,
   "metadata": {},
   "outputs": [],
   "source": [
    "# This method finds the urls for each of the rosters in the NBA using regexes.\n",
    "def build_team_urls():\n",
    "    # Open the espn teams webpage and extract the names of each roster available.\n",
    "    f = urllib.request.urlopen('https://www.espn.com/nba/teams')\n",
    "    teams_source = f.read().decode('utf-8')\n",
    "    teams = dict(re.findall(\"www\\.espn\\.com/nba/team/_/name/(\\w+)/(.+?)\\\",\", teams_source))\n",
    "    # Using the names of the rosters, create the urls of each roster\n",
    "    roster_urls = []\n",
    "    for key in teams.keys():\n",
    "        # each roster webpage follows this general pattern.\n",
    "        roster_urls.append('https://www.espn.com/nba/team/roster/_/name/' + key + '/' + teams[key])\n",
    "        teams[key] = str(teams[key])\n",
    "    return dict(zip(teams.values(), roster_urls))"
   ]
  },
  {
   "cell_type": "code",
   "execution_count": 5,
   "metadata": {},
   "outputs": [
    {
     "data": {
      "text/plain": [
       "{'atlanta-hawks': 'https://www.espn.com/nba/team/roster/_/name/atl/atlanta-hawks',\n",
       " 'boston-celtics': 'https://www.espn.com/nba/team/roster/_/name/bos/boston-celtics',\n",
       " 'brooklyn-nets': 'https://www.espn.com/nba/team/roster/_/name/bkn/brooklyn-nets',\n",
       " 'charlotte-hornets': 'https://www.espn.com/nba/team/roster/_/name/cha/charlotte-hornets',\n",
       " 'chicago-bulls': 'https://www.espn.com/nba/team/roster/_/name/chi/chicago-bulls',\n",
       " 'cleveland-cavaliers': 'https://www.espn.com/nba/team/roster/_/name/cle/cleveland-cavaliers',\n",
       " 'dallas-mavericks': 'https://www.espn.com/nba/team/roster/_/name/dal/dallas-mavericks',\n",
       " 'denver-nuggets': 'https://www.espn.com/nba/team/roster/_/name/den/denver-nuggets',\n",
       " 'detroit-pistons': 'https://www.espn.com/nba/team/roster/_/name/det/detroit-pistons',\n",
       " 'golden-state-warriors': 'https://www.espn.com/nba/team/roster/_/name/gs/golden-state-warriors',\n",
       " 'houston-rockets': 'https://www.espn.com/nba/team/roster/_/name/hou/houston-rockets',\n",
       " 'indiana-pacers': 'https://www.espn.com/nba/team/roster/_/name/ind/indiana-pacers',\n",
       " 'la-clippers': 'https://www.espn.com/nba/team/roster/_/name/lac/la-clippers',\n",
       " 'los-angeles-lakers': 'https://www.espn.com/nba/team/roster/_/name/lal/los-angeles-lakers',\n",
       " 'memphis-grizzlies': 'https://www.espn.com/nba/team/roster/_/name/mem/memphis-grizzlies',\n",
       " 'miami-heat': 'https://www.espn.com/nba/team/roster/_/name/mia/miami-heat',\n",
       " 'milwaukee-bucks': 'https://www.espn.com/nba/team/roster/_/name/mil/milwaukee-bucks',\n",
       " 'minnesota-timberwolves': 'https://www.espn.com/nba/team/roster/_/name/min/minnesota-timberwolves',\n",
       " 'new-orleans-pelicans': 'https://www.espn.com/nba/team/roster/_/name/no/new-orleans-pelicans',\n",
       " 'new-york-knicks': 'https://www.espn.com/nba/team/roster/_/name/ny/new-york-knicks',\n",
       " 'oklahoma-city-thunder': 'https://www.espn.com/nba/team/roster/_/name/okc/oklahoma-city-thunder',\n",
       " 'orlando-magic': 'https://www.espn.com/nba/team/roster/_/name/orl/orlando-magic',\n",
       " 'philadelphia-76ers': 'https://www.espn.com/nba/team/roster/_/name/phi/philadelphia-76ers',\n",
       " 'phoenix-suns': 'https://www.espn.com/nba/team/roster/_/name/phx/phoenix-suns',\n",
       " 'portland-trail-blazers': 'https://www.espn.com/nba/team/roster/_/name/por/portland-trail-blazers',\n",
       " 'sacramento-kings': 'https://www.espn.com/nba/team/roster/_/name/sac/sacramento-kings',\n",
       " 'san-antonio-spurs': 'https://www.espn.com/nba/team/roster/_/name/sa/san-antonio-spurs',\n",
       " 'toronto-raptors': 'https://www.espn.com/nba/team/roster/_/name/tor/toronto-raptors',\n",
       " 'utah-jazz': 'https://www.espn.com/nba/team/roster/_/name/utah/utah-jazz',\n",
       " 'washington-wizards': 'https://www.espn.com/nba/team/roster/_/name/wsh/washington-wizards'}"
      ]
     },
     "execution_count": 5,
     "metadata": {},
     "output_type": "execute_result"
    }
   ],
   "source": [
    "{'atlanta-hawks': 'https://www.espn.com/nba/team/roster/_/name/atl/atlanta-hawks',\n",
    " 'boston-celtics': 'https://www.espn.com/nba/team/roster/_/name/bos/boston-celtics',\n",
    " 'brooklyn-nets': 'https://www.espn.com/nba/team/roster/_/name/bkn/brooklyn-nets',\n",
    " 'charlotte-hornets': 'https://www.espn.com/nba/team/roster/_/name/cha/charlotte-hornets',\n",
    " 'chicago-bulls': 'https://www.espn.com/nba/team/roster/_/name/chi/chicago-bulls',\n",
    " 'cleveland-cavaliers': 'https://www.espn.com/nba/team/roster/_/name/cle/cleveland-cavaliers',\n",
    " 'dallas-mavericks': 'https://www.espn.com/nba/team/roster/_/name/dal/dallas-mavericks',\n",
    " 'denver-nuggets': 'https://www.espn.com/nba/team/roster/_/name/den/denver-nuggets',\n",
    " 'detroit-pistons': 'https://www.espn.com/nba/team/roster/_/name/det/detroit-pistons',\n",
    " 'golden-state-warriors': 'https://www.espn.com/nba/team/roster/_/name/gs/golden-state-warriors',\n",
    " 'houston-rockets': 'https://www.espn.com/nba/team/roster/_/name/hou/houston-rockets',\n",
    " 'indiana-pacers': 'https://www.espn.com/nba/team/roster/_/name/ind/indiana-pacers',\n",
    " 'la-clippers': 'https://www.espn.com/nba/team/roster/_/name/lac/la-clippers',\n",
    " 'los-angeles-lakers': 'https://www.espn.com/nba/team/roster/_/name/lal/los-angeles-lakers',\n",
    " 'memphis-grizzlies': 'https://www.espn.com/nba/team/roster/_/name/mem/memphis-grizzlies',\n",
    " 'miami-heat': 'https://www.espn.com/nba/team/roster/_/name/mia/miami-heat',\n",
    " 'milwaukee-bucks': 'https://www.espn.com/nba/team/roster/_/name/mil/milwaukee-bucks',\n",
    " 'minnesota-timberwolves': 'https://www.espn.com/nba/team/roster/_/name/min/minnesota-timberwolves',\n",
    " 'new-orleans-pelicans': 'https://www.espn.com/nba/team/roster/_/name/no/new-orleans-pelicans',\n",
    " 'new-york-knicks': 'https://www.espn.com/nba/team/roster/_/name/ny/new-york-knicks',\n",
    " 'oklahoma-city-thunder': 'https://www.espn.com/nba/team/roster/_/name/okc/oklahoma-city-thunder',\n",
    " 'orlando-magic': 'https://www.espn.com/nba/team/roster/_/name/orl/orlando-magic',\n",
    " 'philadelphia-76ers': 'https://www.espn.com/nba/team/roster/_/name/phi/philadelphia-76ers',\n",
    " 'phoenix-suns': 'https://www.espn.com/nba/team/roster/_/name/phx/phoenix-suns',\n",
    " 'portland-trail-blazers': 'https://www.espn.com/nba/team/roster/_/name/por/portland-trail-blazers',\n",
    " 'sacramento-kings': 'https://www.espn.com/nba/team/roster/_/name/sac/sacramento-kings',\n",
    " 'san-antonio-spurs': 'https://www.espn.com/nba/team/roster/_/name/sa/san-antonio-spurs',\n",
    " 'toronto-raptors': 'https://www.espn.com/nba/team/roster/_/name/tor/toronto-raptors',\n",
    " 'utah-jazz': 'https://www.espn.com/nba/team/roster/_/name/utah/utah-jazz',\n",
    " 'washington-wizards': 'https://www.espn.com/nba/team/roster/_/name/wsh/washington-wizards'}"
   ]
  },
  {
   "cell_type": "code",
   "execution_count": 7,
   "metadata": {},
   "outputs": [
    {
     "data": {
      "text/plain": [
       "{'boston-celtics': 'https://www.espn.com/nba/team/roster/_/name/bos/boston-celtics',\n",
       " 'brooklyn-nets': 'https://www.espn.com/nba/team/roster/_/name/bkn/brooklyn-nets',\n",
       " 'new-york-knicks': 'https://www.espn.com/nba/team/roster/_/name/ny/new-york-knicks',\n",
       " 'philadelphia-76ers': 'https://www.espn.com/nba/team/roster/_/name/phi/philadelphia-76ers',\n",
       " 'toronto-raptors': 'https://www.espn.com/nba/team/roster/_/name/tor/toronto-raptors',\n",
       " 'chicago-bulls': 'https://www.espn.com/nba/team/roster/_/name/chi/chicago-bulls',\n",
       " 'cleveland-cavaliers': 'https://www.espn.com/nba/team/roster/_/name/cle/cleveland-cavaliers',\n",
       " 'detroit-pistons': 'https://www.espn.com/nba/team/roster/_/name/det/detroit-pistons',\n",
       " 'indiana-pacers': 'https://www.espn.com/nba/team/roster/_/name/ind/indiana-pacers',\n",
       " 'milwaukee-bucks': 'https://www.espn.com/nba/team/roster/_/name/mil/milwaukee-bucks',\n",
       " 'atlanta-hawks': 'https://www.espn.com/nba/team/roster/_/name/atl/atlanta-hawks',\n",
       " 'charlotte-hornets': 'https://www.espn.com/nba/team/roster/_/name/cha/charlotte-hornets',\n",
       " 'miami-heat': 'https://www.espn.com/nba/team/roster/_/name/mia/miami-heat',\n",
       " 'orlando-magic': 'https://www.espn.com/nba/team/roster/_/name/orl/orlando-magic',\n",
       " 'washington-wizards': 'https://www.espn.com/nba/team/roster/_/name/wsh/washington-wizards',\n",
       " 'denver-nuggets': 'https://www.espn.com/nba/team/roster/_/name/den/denver-nuggets',\n",
       " 'minnesota-timberwolves': 'https://www.espn.com/nba/team/roster/_/name/min/minnesota-timberwolves',\n",
       " 'oklahoma-city-thunder': 'https://www.espn.com/nba/team/roster/_/name/okc/oklahoma-city-thunder',\n",
       " 'portland-trail-blazers': 'https://www.espn.com/nba/team/roster/_/name/por/portland-trail-blazers',\n",
       " 'utah-jazz': 'https://www.espn.com/nba/team/roster/_/name/utah/utah-jazz',\n",
       " 'golden-state-warriors': 'https://www.espn.com/nba/team/roster/_/name/gs/golden-state-warriors',\n",
       " 'la-clippers': 'https://www.espn.com/nba/team/roster/_/name/lac/la-clippers',\n",
       " 'los-angeles-lakers': 'https://www.espn.com/nba/team/roster/_/name/lal/los-angeles-lakers',\n",
       " 'phoenix-suns': 'https://www.espn.com/nba/team/roster/_/name/phx/phoenix-suns',\n",
       " 'sacramento-kings': 'https://www.espn.com/nba/team/roster/_/name/sac/sacramento-kings',\n",
       " 'dallas-mavericks': 'https://www.espn.com/nba/team/roster/_/name/dal/dallas-mavericks',\n",
       " 'houston-rockets': 'https://www.espn.com/nba/team/roster/_/name/hou/houston-rockets',\n",
       " 'memphis-grizzlies': 'https://www.espn.com/nba/team/roster/_/name/mem/memphis-grizzlies',\n",
       " 'new-orleans-pelicans': 'https://www.espn.com/nba/team/roster/_/name/no/new-orleans-pelicans',\n",
       " 'san-antonio-spurs': 'https://www.espn.com/nba/team/roster/_/name/sa/san-antonio-spurs'}"
      ]
     },
     "execution_count": 7,
     "metadata": {},
     "output_type": "execute_result"
    }
   ],
   "source": [
    "rosters = build_team_urls()\n",
    "rosters"
   ]
  },
  {
   "cell_type": "code",
   "execution_count": 8,
   "metadata": {},
   "outputs": [],
   "source": [
    "url = \"https://www.espn.com/nba/team/roster/_/name/gs/golden-state-warriors\"\n",
    "f = urllib.request.urlopen(url)\n",
    "roster_source = f.read().decode('utf-8')"
   ]
  },
  {
   "cell_type": "code",
   "execution_count": 9,
   "metadata": {},
   "outputs": [
    {
     "data": {
      "text/plain": [
       "[]"
      ]
     },
     "execution_count": 9,
     "metadata": {},
     "output_type": "execute_result"
    }
   ],
   "source": [
    "player_regex = ('\\{\\\"name\\\"\\:\\\"(\\w+\\s\\w+)\\\",\\\"href\\\"\\:\\\"https?\\://www\\.espn\\.com/nba/player/.*?\\\",(.*?)\\}')\n",
    "player_regex\n",
    "player_info = re.findall(player_regex, roster_source)\n",
    "player_info[0:4]"
   ]
  },
  {
   "cell_type": "code",
   "execution_count": 10,
   "metadata": {},
   "outputs": [
    {
     "data": {
      "text/plain": [
       "[]"
      ]
     },
     "execution_count": 10,
     "metadata": {},
     "output_type": "execute_result"
    }
   ],
   "source": [
    "player_info"
   ]
  },
  {
   "cell_type": "code",
   "execution_count": 9,
   "metadata": {},
   "outputs": [
    {
     "ename": "IndexError",
     "evalue": "list index out of range",
     "output_type": "error",
     "traceback": [
      "\u001b[0;31m---------------------------------------------------------------------------\u001b[0m",
      "\u001b[0;31mIndexError\u001b[0m                                Traceback (most recent call last)",
      "Cell \u001b[0;32mIn[9], line 2\u001b[0m\n\u001b[1;32m      1\u001b[0m \u001b[39mimport\u001b[39;00m \u001b[39mjson\u001b[39;00m\n\u001b[0;32m----> 2\u001b[0m draymond \u001b[39m=\u001b[39m json\u001b[39m.\u001b[39mloads(\u001b[39m\"\u001b[39m\u001b[39m{\u001b[39m\u001b[39m\"\u001b[39m\u001b[39m+\u001b[39mplayer_info[\u001b[39m3\u001b[39;49m][\u001b[39m1\u001b[39m]\u001b[39m+\u001b[39m\u001b[39m\"\u001b[39m\u001b[39m}\u001b[39m\u001b[39m\"\u001b[39m)\n\u001b[1;32m      3\u001b[0m draymond\n",
      "\u001b[0;31mIndexError\u001b[0m: list index out of range"
     ]
    }
   ],
   "source": [
    "import json\n",
    "draymond = json.loads(\"{\"+player_info[3][1]+\"}\")\n",
    "draymond"
   ]
  },
  {
   "cell_type": "code",
   "execution_count": 3,
   "metadata": {},
   "outputs": [
    {
     "name": "stdout",
     "output_type": "stream",
     "text": [
      "Requirement already satisfied: nba_api in /Users/anthonychen/opt/anaconda3/lib/python3.8/site-packages (1.1.14)\n",
      "Requirement already satisfied: numpy<2.0.0,>=1.22.2 in /Users/anthonychen/opt/anaconda3/lib/python3.8/site-packages (from nba_api) (1.23.1)\n",
      "Requirement already satisfied: requests in /Users/anthonychen/opt/anaconda3/lib/python3.8/site-packages (from nba_api) (2.24.0)\n",
      "Requirement already satisfied: certifi>=2017.4.17 in /Users/anthonychen/opt/anaconda3/lib/python3.8/site-packages (from requests->nba_api) (2020.6.20)\n",
      "Requirement already satisfied: urllib3!=1.25.0,!=1.25.1,<1.26,>=1.21.1 in /Users/anthonychen/opt/anaconda3/lib/python3.8/site-packages (from requests->nba_api) (1.25.9)\n",
      "Requirement already satisfied: chardet<4,>=3.0.2 in /Users/anthonychen/opt/anaconda3/lib/python3.8/site-packages (from requests->nba_api) (3.0.4)\n",
      "Requirement already satisfied: idna<3,>=2.5 in /Users/anthonychen/opt/anaconda3/lib/python3.8/site-packages (from requests->nba_api) (2.10)\n"
     ]
    }
   ],
   "source": [
    "!pip install nba_api"
   ]
  },
  {
   "cell_type": "code",
   "execution_count": 4,
   "metadata": {},
   "outputs": [],
   "source": [
    "from nba_api.stats.endpoints import playercareerstats"
   ]
  },
  {
   "cell_type": "code",
   "execution_count": 1,
   "metadata": {},
   "outputs": [],
   "source": [
    "import pandas as pd"
   ]
  },
  {
   "cell_type": "code",
   "execution_count": 1,
   "metadata": {},
   "outputs": [],
   "source": [
    "import requests as r\n",
    "from bs4 import BeautifulSoup\n",
    "import pandas as pd\n",
    "import adaptive\n",
    "import time\n",
    "import numpy as np\n",
    "import matplotlib.pyplot as plt"
   ]
  },
  {
   "cell_type": "code",
   "execution_count": 14,
   "metadata": {},
   "outputs": [],
   "source": [
    "url='https://www.basketball-reference.com/teams/BOS/stats_basic_totals.html'\n",
    "response=r.get(url)\n",
    "#adaptive.adaptive_scrapping(url)"
   ]
  },
  {
   "cell_type": "code",
   "execution_count": 15,
   "metadata": {},
   "outputs": [],
   "source": [
    "soup=BeautifulSoup(response.content)"
   ]
  },
  {
   "cell_type": "code",
   "execution_count": 16,
   "metadata": {},
   "outputs": [],
   "source": [
    "team=[i.text for i in soup.select('tbody td.left[data-stat=\"team_id\"]>a')]\n",
    "year=[i.text for i in soup.select('tbody tr th a')]\n",
    "points=[i.text for i in soup.select('tbody td.right[data-stat=\"pts\"]')]\n",
    "field_goal=[i.text for i in soup.select('tbody td.right[data-stat=\"fg\"]')]\n",
    "field_goal_pct=[i.text for i in soup.select('tbody td.right[data-stat=\"fg_pct\"]')]\n",
    "rebounds=[i.text for i in soup.select('tbody td.right[data-stat=\"trb\"]')]\n",
    "assists=[i.text for i in soup.select('tbody td.right[data-stat=\"ast\"]')]\n",
    "steals=[i.text for i in soup.select('tbody td.right[data-stat=\"stl\"]')]\n",
    "blocks=[i.text for i in soup.select('tbody td.right[data-stat=\"blk\"]')]\n",
    "turnovers=[i.text for i in soup.select('tbody td.right[data-stat=\"tov\"]')]"
   ]
  },
  {
   "cell_type": "code",
   "execution_count": 17,
   "metadata": {},
   "outputs": [],
   "source": [
    "data={\n",
    "    'team':team,\n",
    "    'year':year,\n",
    "    'points':points,\n",
    "    'field_goal':field_goal,\n",
    "    'field_goal_pct':field_goal_pct,\n",
    "    'rebounds':rebounds,\n",
    "    'assists':assists,\n",
    "    'steals':steals,\n",
    "    'blocks':blocks,\n",
    "    'turnovers':turnovers    \n",
    "}"
   ]
  },
  {
   "cell_type": "code",
   "execution_count": 18,
   "metadata": {},
   "outputs": [],
   "source": [
    "df = pd.DataFrame.from_dict(data, orient='index').transpose()"
   ]
  },
  {
   "cell_type": "code",
   "execution_count": 20,
   "metadata": {},
   "outputs": [
    {
     "data": {
      "text/html": [
       "<div>\n",
       "<style scoped>\n",
       "    .dataframe tbody tr th:only-of-type {\n",
       "        vertical-align: middle;\n",
       "    }\n",
       "\n",
       "    .dataframe tbody tr th {\n",
       "        vertical-align: top;\n",
       "    }\n",
       "\n",
       "    .dataframe thead th {\n",
       "        text-align: right;\n",
       "    }\n",
       "</style>\n",
       "<table border=\"1\" class=\"dataframe\">\n",
       "  <thead>\n",
       "    <tr style=\"text-align: right;\">\n",
       "      <th></th>\n",
       "      <th>team</th>\n",
       "      <th>year</th>\n",
       "      <th>points</th>\n",
       "      <th>field_goal</th>\n",
       "      <th>field_goal_pct</th>\n",
       "      <th>rebounds</th>\n",
       "      <th>assists</th>\n",
       "      <th>steals</th>\n",
       "      <th>blocks</th>\n",
       "      <th>turnovers</th>\n",
       "    </tr>\n",
       "  </thead>\n",
       "  <tbody>\n",
       "    <tr>\n",
       "      <th>0</th>\n",
       "      <td>BOS</td>\n",
       "      <td>2022-23</td>\n",
       "      <td>7522</td>\n",
       "      <td>2679</td>\n",
       "      <td>.476</td>\n",
       "      <td>2881</td>\n",
       "      <td>1683</td>\n",
       "      <td>402</td>\n",
       "      <td>340</td>\n",
       "      <td>866</td>\n",
       "    </tr>\n",
       "    <tr>\n",
       "      <th>1</th>\n",
       "      <td>BOS</td>\n",
       "      <td>2021-22</td>\n",
       "      <td>9164</td>\n",
       "      <td>3341</td>\n",
       "      <td>.466</td>\n",
       "      <td>3778</td>\n",
       "      <td>2036</td>\n",
       "      <td>591</td>\n",
       "      <td>478</td>\n",
       "      <td>1118</td>\n",
       "    </tr>\n",
       "    <tr>\n",
       "      <th>2</th>\n",
       "      <td>BOS</td>\n",
       "      <td>2020-21</td>\n",
       "      <td>8109</td>\n",
       "      <td>2985</td>\n",
       "      <td>.466</td>\n",
       "      <td>3186</td>\n",
       "      <td>1689</td>\n",
       "      <td>556</td>\n",
       "      <td>383</td>\n",
       "      <td>1012</td>\n",
       "    </tr>\n",
       "    <tr>\n",
       "      <th>3</th>\n",
       "      <td>BOS</td>\n",
       "      <td>2019-20</td>\n",
       "      <td>8183</td>\n",
       "      <td>2971</td>\n",
       "      <td>.461</td>\n",
       "      <td>3317</td>\n",
       "      <td>1655</td>\n",
       "      <td>595</td>\n",
       "      <td>406</td>\n",
       "      <td>995</td>\n",
       "    </tr>\n",
       "    <tr>\n",
       "      <th>4</th>\n",
       "      <td>BOS</td>\n",
       "      <td>2018-19</td>\n",
       "      <td>9216</td>\n",
       "      <td>3451</td>\n",
       "      <td>.465</td>\n",
       "      <td>3653</td>\n",
       "      <td>2155</td>\n",
       "      <td>706</td>\n",
       "      <td>435</td>\n",
       "      <td>1052</td>\n",
       "    </tr>\n",
       "  </tbody>\n",
       "</table>\n",
       "</div>"
      ],
      "text/plain": [
       "  team     year points field_goal field_goal_pct rebounds assists steals  \\\n",
       "0  BOS  2022-23   7522       2679           .476     2881    1683    402   \n",
       "1  BOS  2021-22   9164       3341           .466     3778    2036    591   \n",
       "2  BOS  2020-21   8109       2985           .466     3186    1689    556   \n",
       "3  BOS  2019-20   8183       2971           .461     3317    1655    595   \n",
       "4  BOS  2018-19   9216       3451           .465     3653    2155    706   \n",
       "\n",
       "  blocks turnovers  \n",
       "0    340       866  \n",
       "1    478      1118  \n",
       "2    383      1012  \n",
       "3    406       995  \n",
       "4    435      1052  "
      ]
     },
     "execution_count": 20,
     "metadata": {},
     "output_type": "execute_result"
    }
   ],
   "source": [
    "df.head()"
   ]
  },
  {
   "cell_type": "code",
   "execution_count": 21,
   "metadata": {},
   "outputs": [],
   "source": [
    "urlpage = 'https://www.basketball-reference.com/teams/'\n",
    "response=(r.get(urlpage))\n",
    "time.sleep(1)\n",
    "soup = BeautifulSoup(response.content)\n",
    "URL=[i.get(\"href\") for i in soup.select('div[id=\"all_teams_active\"] tbody tr th a')]\n",
    "teams_URL = ['https://www.basketball-reference.com'+i+'stats_basic_totals.html' for i in URL]"
   ]
  },
  {
   "cell_type": "code",
   "execution_count": 22,
   "metadata": {},
   "outputs": [
    {
     "name": "stdout",
     "output_type": "stream",
     "text": [
      "https://www.basketball-reference.com/teams/ATL/stats_basic_totals.html is scrapped!\n",
      "https://www.basketball-reference.com/teams/BOS/stats_basic_totals.html is scrapped!\n",
      "https://www.basketball-reference.com/teams/NJN/stats_basic_totals.html is scrapped!\n",
      "https://www.basketball-reference.com/teams/CHA/stats_basic_totals.html is scrapped!\n",
      "https://www.basketball-reference.com/teams/CHI/stats_basic_totals.html is scrapped!\n",
      "https://www.basketball-reference.com/teams/CLE/stats_basic_totals.html is scrapped!\n",
      "https://www.basketball-reference.com/teams/DAL/stats_basic_totals.html is scrapped!\n",
      "https://www.basketball-reference.com/teams/DEN/stats_basic_totals.html is scrapped!\n",
      "https://www.basketball-reference.com/teams/DET/stats_basic_totals.html is scrapped!\n",
      "https://www.basketball-reference.com/teams/GSW/stats_basic_totals.html is scrapped!\n",
      "https://www.basketball-reference.com/teams/HOU/stats_basic_totals.html is scrapped!\n",
      "https://www.basketball-reference.com/teams/IND/stats_basic_totals.html is scrapped!\n",
      "https://www.basketball-reference.com/teams/LAC/stats_basic_totals.html is scrapped!\n",
      "https://www.basketball-reference.com/teams/LAL/stats_basic_totals.html is scrapped!\n",
      "https://www.basketball-reference.com/teams/MEM/stats_basic_totals.html is scrapped!\n",
      "https://www.basketball-reference.com/teams/MIA/stats_basic_totals.html is scrapped!\n",
      "https://www.basketball-reference.com/teams/MIL/stats_basic_totals.html is scrapped!\n",
      "https://www.basketball-reference.com/teams/MIN/stats_basic_totals.html is scrapped!\n",
      "https://www.basketball-reference.com/teams/NOH/stats_basic_totals.html is scrapped!\n",
      "https://www.basketball-reference.com/teams/NYK/stats_basic_totals.html is scrapped!\n",
      "https://www.basketball-reference.com/teams/OKC/stats_basic_totals.html is scrapped!\n",
      "https://www.basketball-reference.com/teams/ORL/stats_basic_totals.html is scrapped!\n",
      "https://www.basketball-reference.com/teams/PHI/stats_basic_totals.html is scrapped!\n",
      "https://www.basketball-reference.com/teams/PHO/stats_basic_totals.html is scrapped!\n",
      "https://www.basketball-reference.com/teams/POR/stats_basic_totals.html is scrapped!\n",
      "https://www.basketball-reference.com/teams/SAC/stats_basic_totals.html is scrapped!\n",
      "https://www.basketball-reference.com/teams/SAS/stats_basic_totals.html is scrapped!\n",
      "https://www.basketball-reference.com/teams/TOR/stats_basic_totals.html is scrapped!\n",
      "https://www.basketball-reference.com/teams/UTA/stats_basic_totals.html is scrapped!\n",
      "https://www.basketball-reference.com/teams/WAS/stats_basic_totals.html is scrapped!\n"
     ]
    }
   ],
   "source": [
    "df_basic_stats=pd.DataFrame()\n",
    "for i in teams_URL:\n",
    "    response=r.get(i)\n",
    "    time.sleep(5)\n",
    "    soup=(BeautifulSoup(response.content))\n",
    "    team=[i.text for i in soup.select('tbody td.left[data-stat=\"team_id\"]>a')]\n",
    "    year=[i.text for i in soup.select('tbody tr th a')]\n",
    "    points=[i.text for i in soup.select('tbody td.right[data-stat=\"pts\"]')]\n",
    "    field_goal=[i.text for i in soup.select('tbody td.right[data-stat=\"fg\"]')]\n",
    "    field_goal_pct=[i.text for i in soup.select('tbody td.right[data-stat=\"fg_pct\"]')]\n",
    "    rebounds=[i.text for i in soup.select('tbody td.right[data-stat=\"trb\"]')]\n",
    "    assists=[i.text for i in soup.select('tbody td.right[data-stat=\"ast\"]')]\n",
    "    steals=[i.text for i in soup.select('tbody td.right[data-stat=\"stl\"]')]\n",
    "    blocks=[i.text for i in soup.select('tbody td.right[data-stat=\"blk\"]')]\n",
    "    turnovers=[i.text for i in soup.select('tbody td.right[data-stat=\"tov\"]')]\n",
    "    data={\n",
    "    'team':team,\n",
    "    'year':year,\n",
    "    'points':points,\n",
    "    'field_goal':field_goal,\n",
    "    'field_goal_pct':field_goal_pct,\n",
    "    'rebounds':rebounds,\n",
    "    'assists':assists,\n",
    "    'steals':steals,\n",
    "    'blocks':blocks,\n",
    "    'turnovers':turnovers    \n",
    "}\n",
    "    df=pd.DataFrame.from_dict(data, orient='index').transpose()\n",
    "    df_basic_stats=df_basic_stats.append(df)\n",
    "    print(i, \"is scrapped!\")"
   ]
  },
  {
   "cell_type": "code",
   "execution_count": 24,
   "metadata": {},
   "outputs": [],
   "source": [
    "df_basic_stats.to_csv('/Users/anthonychen/Desktop/stats.csv', index=False)"
   ]
  },
  {
   "cell_type": "code",
   "execution_count": null,
   "metadata": {},
   "outputs": [],
   "source": []
  },
  {
   "cell_type": "code",
   "execution_count": null,
   "metadata": {},
   "outputs": [],
   "source": []
  }
 ],
 "metadata": {
  "kernelspec": {
   "display_name": "Python 3",
   "language": "python",
   "name": "python3"
  },
  "language_info": {
   "codemirror_mode": {
    "name": "ipython",
    "version": 3
   },
   "file_extension": ".py",
   "mimetype": "text/x-python",
   "name": "python",
   "nbconvert_exporter": "python",
   "pygments_lexer": "ipython3",
   "version": "3.8.3"
  },
  "orig_nbformat": 4
 },
 "nbformat": 4,
 "nbformat_minor": 2
}
